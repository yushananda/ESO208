{
 "cells": [
  {
   "cell_type": "code",
   "execution_count": 1,
   "id": "7fa0c925",
   "metadata": {},
   "outputs": [],
   "source": [
    "import numpy as np\n",
    "import matplotlib.pyplot as plt"
   ]
  },
  {
   "cell_type": "markdown",
   "id": "35dfb491",
   "metadata": {},
   "source": [
    "Select one of the following methods–\n",
    "a. Linear spline\n",
    "b. Quadratic spline\n",
    "c. Natural cubic spline\n",
    "d. Not-a-knot cubic spline\n",
    "e. Periodic cubic spline\n",
    "f. Clamped cubic spine "
   ]
  },
  {
   "cell_type": "code",
   "execution_count": 2,
   "id": "ade2527e",
   "metadata": {},
   "outputs": [],
   "source": [
    "def linear(input_data, n, m, eval_data):\n",
    "    ans = np.zeros(m)\n",
    "    for j in range(0, m):\n",
    "        for i in range(1, n):\n",
    "            if(eval_data[j]<input_data[i][0]):\n",
    "                ans[j] = input_data[i-1][1] + (eval_data[j] - input_data[i-1][0])*(input_data[i][1] - input_data[i-1][1])/(input_data[i][0] - input_data[i-1][0])\n",
    "                break;\n",
    "    for j in range(0, m):\n",
    "        print(str(eval_data[j]) + \"\\t\" + str(ans[j]))\n",
    "    plt.title(\"Linear Spline\")\n",
    "    plt.xlabel(\"X axis\")\n",
    "    plt.ylabel(\"Y axis\")\n",
    "    plt.plot(input_data[:,0], input_data[:,1], color = \"red\")\n",
    "    plt.show()"
   ]
  },
  {
   "cell_type": "code",
   "execution_count": 3,
   "id": "062d6ced",
   "metadata": {},
   "outputs": [],
   "source": [
    "def quadratic(input_data, n, m, eval_data):\n",
    "    A = np.zeros([3*(n-1), 3*(n-1)])\n",
    "    B = np.zeros(3*(n-1))\n",
    "    ans = np.zeros(m)\n",
    "    for i in range(0,n-1):\n",
    "        A[2*i][3*i] = input_data[i][0]**2\n",
    "        A[2*i][(3*i)+1] = input_data[i][0]\n",
    "        A[2*i][(3*i)+2] = 1\n",
    "        B[2*i] = input_data[i][1]\n",
    "        A[(2*i)+1][3*i] = input_data[i+1][0]**2\n",
    "        A[(2*i)+1][3*i] = input_data[i+1][0]\n",
    "        A[(2*i)+1][3*i] = 1\n",
    "        B[(2*i)+1] = input_data[i+1][1]\n",
    "    for i in range(0,n-2):\n",
    "        A[2*(n-1)+i][3*i] = input_data[i+1][0]*2\n",
    "        A[2*(n-1)+i][3*i+1] = 1\n",
    "        A[2*(n-1)+i][3*(i+1)] = input_data[i+1][0]*(-2)\n",
    "        A[2*(n-1)+i][3*(i+1)+1] = -1\n",
    "    A[3*(n-1)-1][0] = 1\n",
    "    x = np.linalg.lstsq(A, B, rcond = None)\n",
    "    for j in range(0,m):\n",
    "        for i in range(1, n):\n",
    "            if(eval_data[j]<input_data[i][0]):\n",
    "                a = x[3*i-3]\n",
    "                b = x[3*i-2]\n",
    "                c = x[3*i-1]\n",
    "                x_ = eval_data[j]\n",
    "                ans[j] = [a*(np.square(x_)) + b*x_ + c]\n",
    "                break;\n",
    "    for j in range(0, m):\n",
    "        print(str(eval_data[j]) + \"\\t\" + str(ans[j]))"
   ]
  },
  {
   "cell_type": "code",
   "execution_count": 4,
   "id": "45b8c263",
   "metadata": {
    "scrolled": true
   },
   "outputs": [
    {
     "name": "stdout",
     "output_type": "stream",
     "text": [
      "Enter the letter corresponding to any one of the methods mentioned abovel\n",
      "Enter the number of data points: 5\n",
      "Enter the 5 data points below: \n",
      "Value of x: -1\n",
      "Function Value at this point: 0.0385\n",
      "Value of x: -0.5\n",
      "Function Value at this point: 0.1379\n",
      "Value of x: 0\n",
      "Function Value at this point: 1\n",
      "Value of x: 0.5\n",
      "Function Value at this point: 0.1379\n",
      "Value of x: 1\n",
      "Function Value at this point: 0.0385\n",
      "Enter the number of points interpolated values are to be found at: 4\n",
      "Value of x: -0.8\n",
      "Value of x: -0.2\n",
      "Value of x: 0.2\n",
      "Value of x: 0.8\n"
     ]
    }
   ],
   "source": [
    "n = int(input(\"Enter the number of data points: \"))\n",
    "input_data = np.zeros([n,2])\n",
    "print(\"Enter the %d data points below: \" % n)\n",
    "for i in range(0,n):\n",
    "    input_data[i][0] = float(input('Value of x: '))\n",
    "    input_data[i][1] = float(input('Function Value at this point: '))\n",
    "m = int(input(\"Enter the number of points interpolated values are to be found at: \"))\n",
    "eval_data = np.zeros(m)\n",
    "for i in range(0,m):\n",
    "    eval_data[i] = float(input('Value of x: '))"
   ]
  },
  {
   "cell_type": "code",
   "execution_count": 5,
   "id": "da061516",
   "metadata": {},
   "outputs": [
    {
     "name": "stdout",
     "output_type": "stream",
     "text": [
      "-0.8\t0.07826\n",
      "-0.2\t0.65516\n",
      "0.2\t0.65516\n",
      "0.8\t0.07826\n"
     ]
    },
    {
     "data": {
      "image/png": "[encoded data removed]",
      "text/plain": [
       "<Figure size 432x288 with 1 Axes>"
      ]
     },
     "metadata": {
      "needs_background": "light"
     },
     "output_type": "display_data"
    },
    {
     "ename": "ValueError",
     "evalue": "operands could not be broadcast together with shapes (12,) (0,) ",
     "output_type": "error",
     "traceback": [
      "\u001b[1;31m---------------------------------------------------------------------------\u001b[0m",
      "\u001b[1;31mValueError\u001b[0m                                Traceback (most recent call last)",
      "\u001b[1;32m~\\AppData\\Local\\Temp/ipykernel_10220/535454744.py\u001b[0m in \u001b[0;36m<module>\u001b[1;34m\u001b[0m\n\u001b[0;32m      1\u001b[0m \u001b[0mlinear\u001b[0m\u001b[1;33m(\u001b[0m\u001b[0minput_data\u001b[0m\u001b[1;33m,\u001b[0m \u001b[0mn\u001b[0m\u001b[1;33m,\u001b[0m \u001b[0mm\u001b[0m\u001b[1;33m,\u001b[0m \u001b[0meval_data\u001b[0m\u001b[1;33m)\u001b[0m\u001b[1;33m\u001b[0m\u001b[1;33m\u001b[0m\u001b[0m\n\u001b[1;32m----> 2\u001b[1;33m \u001b[0mquadratic\u001b[0m\u001b[1;33m(\u001b[0m\u001b[0minput_data\u001b[0m\u001b[1;33m,\u001b[0m \u001b[0mn\u001b[0m\u001b[1;33m,\u001b[0m \u001b[0mm\u001b[0m\u001b[1;33m,\u001b[0m \u001b[0meval_data\u001b[0m\u001b[1;33m)\u001b[0m\u001b[1;33m\u001b[0m\u001b[1;33m\u001b[0m\u001b[0m\n\u001b[0m",
      "\u001b[1;32m~\\AppData\\Local\\Temp/ipykernel_10220/51939231.py\u001b[0m in \u001b[0;36mquadratic\u001b[1;34m(input_data, n, m, eval_data)\u001b[0m\n\u001b[0;32m     26\u001b[0m                 \u001b[0mc\u001b[0m \u001b[1;33m=\u001b[0m \u001b[0mx\u001b[0m\u001b[1;33m[\u001b[0m\u001b[1;36m3\u001b[0m\u001b[1;33m*\u001b[0m\u001b[0mi\u001b[0m\u001b[1;33m-\u001b[0m\u001b[1;36m1\u001b[0m\u001b[1;33m]\u001b[0m\u001b[1;33m\u001b[0m\u001b[1;33m\u001b[0m\u001b[0m\n\u001b[0;32m     27\u001b[0m                 \u001b[0mx_\u001b[0m \u001b[1;33m=\u001b[0m \u001b[0meval_data\u001b[0m\u001b[1;33m[\u001b[0m\u001b[0mj\u001b[0m\u001b[1;33m]\u001b[0m\u001b[1;33m\u001b[0m\u001b[1;33m\u001b[0m\u001b[0m\n\u001b[1;32m---> 28\u001b[1;33m                 \u001b[0mans\u001b[0m\u001b[1;33m[\u001b[0m\u001b[0mj\u001b[0m\u001b[1;33m]\u001b[0m \u001b[1;33m=\u001b[0m \u001b[1;33m[\u001b[0m\u001b[0ma\u001b[0m\u001b[1;33m*\u001b[0m\u001b[1;33m(\u001b[0m\u001b[0mnp\u001b[0m\u001b[1;33m.\u001b[0m\u001b[0msquare\u001b[0m\u001b[1;33m(\u001b[0m\u001b[0mx_\u001b[0m\u001b[1;33m)\u001b[0m\u001b[1;33m)\u001b[0m \u001b[1;33m+\u001b[0m \u001b[0mb\u001b[0m\u001b[1;33m*\u001b[0m\u001b[0mx_\u001b[0m \u001b[1;33m+\u001b[0m \u001b[0mc\u001b[0m\u001b[1;33m]\u001b[0m\u001b[1;33m\u001b[0m\u001b[1;33m\u001b[0m\u001b[0m\n\u001b[0m\u001b[0;32m     29\u001b[0m                 \u001b[1;32mbreak\u001b[0m\u001b[1;33m;\u001b[0m\u001b[1;33m\u001b[0m\u001b[1;33m\u001b[0m\u001b[0m\n\u001b[0;32m     30\u001b[0m     \u001b[1;32mfor\u001b[0m \u001b[0mj\u001b[0m \u001b[1;32min\u001b[0m \u001b[0mrange\u001b[0m\u001b[1;33m(\u001b[0m\u001b[1;36m0\u001b[0m\u001b[1;33m,\u001b[0m \u001b[0mm\u001b[0m\u001b[1;33m)\u001b[0m\u001b[1;33m:\u001b[0m\u001b[1;33m\u001b[0m\u001b[1;33m\u001b[0m\u001b[0m\n",
      "\u001b[1;31mValueError\u001b[0m: operands could not be broadcast together with shapes (12,) (0,) "
     ]
    }
   ],
   "source": [
    "linear(input_data, n, m, eval_data)\n",
    "quadratic(input_data, n, m, eval_data)"
   ]
  },
  {
   "cell_type": "code",
   "execution_count": null,
   "id": "c5bbfb6a",
   "metadata": {},
   "outputs": [],
   "source": []
  },
  {
   "cell_type": "code",
   "execution_count": null,
   "id": "eb53a0a2",
   "metadata": {},
   "outputs": [],
   "source": []
  },
  {
   "cell_type": "code",
   "execution_count": null,
   "id": "66ff0411",
   "metadata": {},
   "outputs": [],
   "source": []
  }
 ],
 "metadata": {
  "kernelspec": {
   "display_name": "Python 3 (ipykernel)",
   "language": "python",
   "name": "python3"
  },
  "language_info": {
   "codemirror_mode": {
    "name": "ipython",
    "version": 3
   },
   "file_extension": ".py",
   "mimetype": "text/x-python",
   "name": "python",
   "nbconvert_exporter": "python",
   "pygments_lexer": "ipython3",
   "version": "3.9.6"
  }
 },
 "nbformat": 4,
 "nbformat_minor": 5
}
