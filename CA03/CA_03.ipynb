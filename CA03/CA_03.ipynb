{
 "cells": [
  {
   "cell_type": "code",
   "execution_count": 1,
   "id": "c0517166",
   "metadata": {},
   "outputs": [],
   "source": [
    "import numpy as np\n",
    "import scipy\n",
    "import scipy.linalg\n",
    "import copy"
   ]
  },
  {
   "cell_type": "markdown",
   "id": "f68cd973",
   "metadata": {},
   "source": [
    "Select one of the following methods–<br>\n",
    "a. Direct power method (to find the eigenvalue having the maximum magnitude and the\n",
    "corresponding eigenvector)<br>\n",
    "b. Inverse power method (to find the eigenvalue having the minimum magnitude and the\n",
    "corresponding eigenvector)<br>\n",
    "c. Shifted-power method (to find intermediate eigenvalues (based on Gershgorin disc)\n",
    "and corresponding eigenvectors)<br>\n",
    "d. QR method (to find all eigenvalues of a matrix)"
   ]
  },
  {
   "cell_type": "code",
   "execution_count": null,
   "id": "e51b2137",
   "metadata": {
    "scrolled": true
   },
   "outputs": [],
   "source": [
    "t = input(\"Enter the letter corresponding to one of the methods above: \")\n",
    "n = int(input(\"Enter the order of the matrix: \"))\n",
    "A = np.zeros([n, n])\n",
    "for i in range(n):\n",
    "    for j in range(n):\n",
    "        A[i][j] = float(input( 'A['+str(i)+']['+ str(j)+'] = '))\n",
    "max_iter = int(input(\"Enter the maximum number of iterations: \"))\n",
    "tol = float(input(\"Enter the maximum permissible error: \"))\n",
    "if(t=='c'):\n",
    "    scalar = float(input(\"Enter the shifting scalar: \"))"
   ]
  },
  {
   "cell_type": "code",
   "execution_count": null,
   "id": "9576ffcf",
   "metadata": {},
   "outputs": [],
   "source": [
    "# #Example\n",
    "# n = 3\n",
    "# A = np.array([[8,-1,-1], [-1,4,-2], [-1,-2,10]])\n",
    "# max_iter = 100\n",
    "# tol = 0.001"
   ]
  },
  {
   "cell_type": "code",
   "execution_count": null,
   "id": "b91afa53",
   "metadata": {},
   "outputs": [],
   "source": [
    "def direct_power(n, A, max_iter, tol):\n",
    "    x = np.ones([n, 1]) \n",
    "    err = 100\n",
    "    iter_no = 1 \n",
    "    lambda_old = 1.0\n",
    "    while(iter_no < max_iter and err > tol):\n",
    "        x = np.matmul(A,x)\n",
    "        lambda_new = max(abs(x))\n",
    "        x = x/lambda_new\n",
    "        err = abs(lambda_new - lambda_old)\n",
    "        lambda_old = lambda_new\n",
    "        iter_no += 1\n",
    "    x /= np.linalg.norm(x)\n",
    "    print(\"Direct Power Method\\nEigenvalue\")\n",
    "    print(np.around(lambda_new, 4))\n",
    "    print(\"\\nEigenvector\")\n",
    "    print(np.around(x,4))\n",
    "    print(\"\\nIterations\")\n",
    "    print(iter_no)"
   ]
  },
  {
   "cell_type": "code",
   "execution_count": null,
   "id": "a5954b59",
   "metadata": {},
   "outputs": [],
   "source": [
    "def inverse_power(n, A, max_iter, tol):\n",
    "    A_inv = np.linalg.inv(A)\n",
    "    x = np.ones([n, 1]) \n",
    "    err = 100\n",
    "    iter_no = 1 \n",
    "    lambda_old = 1.0\n",
    "    while(iter_no < max_iter and err > tol):\n",
    "        x = np.matmul(A_inv,x)\n",
    "        lambda_new = max(abs(x))\n",
    "        x /= lambda_new\n",
    "        err = 100*abs(lambda_new - lambda_old)\n",
    "        lambda_old = lambda_new\n",
    "        iter_no += 1\n",
    "    x /= np.linalg.norm(x)\n",
    "    lambda_new = 1/lambda_new\n",
    "    print(\"\\nInverse Power Method\\nEigenvalue\")\n",
    "    print(np.round(lambda_new, 4))\n",
    "    print(\"\\nEigenvector\")\n",
    "    print(np.around(x, 4))\n",
    "    print(\"\\nIterations\")\n",
    "    print(iter_no)"
   ]
  },
  {
   "cell_type": "code",
   "execution_count": null,
   "id": "18ee7bea",
   "metadata": {},
   "outputs": [],
   "source": [
    "def shifted_power(n, A, max_iter, tol, scalar):\n",
    "    I = np.eye(n)\n",
    "    A = np.subtract(A, scalar*I)\n",
    "    A_inv = np.linalg.inv(A)\n",
    "    x = np.ones([n, 1]) \n",
    "    err = 100\n",
    "    iter_no = 1 \n",
    "    lambda_old = 1.0\n",
    "    while(iter_no < max_iter and err > tol):\n",
    "        x = np.matmul(A_inv,x)\n",
    "        lambda_new = max(abs(x))\n",
    "        x /= lambda_new\n",
    "        err = 100*abs(lambda_new - lambda_old)\n",
    "        lambda_old = lambda_new\n",
    "        iter_no += 1\n",
    "    x /= np.linalg.norm(x)\n",
    "    lambda_new = 1/lambda_new\n",
    "    lambda_new += scalar\n",
    "    print(\"\\nShifted Power Method\\nEigenvalue\")\n",
    "    print(np.round(lambda_new, 4))\n",
    "    print(\"\\nEigenvector\")\n",
    "    print(np.around(x, 4))\n",
    "    print(\"\\nIterations\")\n",
    "    print(iter_no)    "
   ]
  },
  {
   "cell_type": "code",
   "execution_count": null,
   "id": "1e78f2d1",
   "metadata": {},
   "outputs": [],
   "source": [
    "def QR(n, A, max_iter, tol):\n",
    "    iter_no = 1\n",
    "    err = 100\n",
    "    while(iter_no < max_iter and err > tol):\n",
    "        A_old = np.empty_like(A)\n",
    "        np.copyto(A_old, A)\n",
    "        lambda_old = np.max(A_old.diagonal())\n",
    "        Q, R = scipy.linalg.qr(A)\n",
    "        A = np.dot(R, Q)\n",
    "        lambda_new = np.max(A.diagonal())\n",
    "        err = abs(lambda_new - lambda_old)\n",
    "        iter_no += 1\n",
    "    x = A.diagonal()\n",
    "    print(\"\\nQR Decomposition Method\\nEigenvector\")\n",
    "    print(np.around(x, 4))\n",
    "    print(\"\\nIterations\")\n",
    "    print(iter_no)"
   ]
  },
  {
   "cell_type": "code",
   "execution_count": null,
   "id": "7793f154",
   "metadata": {},
   "outputs": [],
   "source": [
    "# direct_power(n, A, max_iter, tol)\n",
    "# inverse_power(n, A, max_iter, tol)\n",
    "# shifted_power(n, A, max_iter, tol, 8.0)\n",
    "# QR(n, A, max_iter, tol)"
   ]
  },
  {
   "cell_type": "code",
   "execution_count": null,
   "id": "39ad99af",
   "metadata": {},
   "outputs": [],
   "source": [
    "if(t=='a'):\n",
    "    direct_power(n, A, max_iter, tol)\n",
    "elif(t=='b'):\n",
    "    inverse_power(n, A, max_iter, tol)\n",
    "elif(t=='c'):\n",
    "    shifted_power(n, A, max_iter, tol, scalar)\n",
    "elif(t=='d'):\n",
    "    QR(n, A, max_iter, tol)"
   ]
  }
 ],
 "metadata": {
  "kernelspec": {
   "display_name": "Python 3 (ipykernel)",
   "language": "python",
   "name": "python3"
  },
  "language_info": {
   "codemirror_mode": {
    "name": "ipython",
    "version": 3
   },
   "file_extension": ".py",
   "mimetype": "text/x-python",
   "name": "python",
   "nbconvert_exporter": "python",
   "pygments_lexer": "ipython3",
   "version": "3.9.6"
  }
 },
 "nbformat": 4,
 "nbformat_minor": 5
}
